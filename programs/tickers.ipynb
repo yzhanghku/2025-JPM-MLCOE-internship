{
 "cells": [
  {
   "cell_type": "code",
   "execution_count": 9,
   "metadata": {},
   "outputs": [],
   "source": [
    "import os\n",
    "import pandas as pd\n",
    "import numpy as np\n",
    "import matplotlib.pyplot as plt\n",
    "import math\n",
    "from datetime import datetime\n",
    "from tqdm import tqdm\n",
    "from pytickersymbols import PyTickerSymbols\n",
    "\n",
    "wd = \"D:/temp/2025-JPM-MLCOE-internship/programs\"\n",
    "os.chdir(wd)\n",
    "\n",
    "pd.set_option('display.max_columns', 500)\n",
    "pd.set_option('display.max_rows', 100)"
   ]
  },
  {
   "cell_type": "code",
   "execution_count": 10,
   "metadata": {},
   "outputs": [],
   "source": [
    "stock_data = PyTickerSymbols()\n",
    "\n",
    "nasdaq_tickers = stock_data.get_stocks_by_index('NASDAQ 100')\n",
    "\n",
    "nasdaq_tickers = pd.DataFrame(nasdaq_tickers)\n",
    "nasdaq_tickers = nasdaq_tickers[['symbol', 'name']]\n",
    "nasdaq_tickers = nasdaq_tickers.sort_values(by='symbol').reset_index(drop=True)"
   ]
  },
  {
   "cell_type": "code",
   "execution_count": 11,
   "metadata": {},
   "outputs": [
    {
     "data": {
      "text/html": [
       "<div>\n",
       "<style scoped>\n",
       "    .dataframe tbody tr th:only-of-type {\n",
       "        vertical-align: middle;\n",
       "    }\n",
       "\n",
       "    .dataframe tbody tr th {\n",
       "        vertical-align: top;\n",
       "    }\n",
       "\n",
       "    .dataframe thead th {\n",
       "        text-align: right;\n",
       "    }\n",
       "</style>\n",
       "<table border=\"1\" class=\"dataframe\">\n",
       "  <thead>\n",
       "    <tr style=\"text-align: right;\">\n",
       "      <th></th>\n",
       "      <th>symbol</th>\n",
       "      <th>name</th>\n",
       "    </tr>\n",
       "  </thead>\n",
       "  <tbody>\n",
       "    <tr>\n",
       "      <th>0</th>\n",
       "      <td>AAPL</td>\n",
       "      <td>Apple Inc.</td>\n",
       "    </tr>\n",
       "    <tr>\n",
       "      <th>1</th>\n",
       "      <td>ABNB</td>\n",
       "      <td>Airbnb, Inc.</td>\n",
       "    </tr>\n",
       "    <tr>\n",
       "      <th>2</th>\n",
       "      <td>ADBE</td>\n",
       "      <td>Adobe Inc.</td>\n",
       "    </tr>\n",
       "    <tr>\n",
       "      <th>3</th>\n",
       "      <td>ADI</td>\n",
       "      <td>Analog Devices Inc.</td>\n",
       "    </tr>\n",
       "    <tr>\n",
       "      <th>4</th>\n",
       "      <td>ADP</td>\n",
       "      <td>Automatic Data Processing Inc.</td>\n",
       "    </tr>\n",
       "    <tr>\n",
       "      <th>...</th>\n",
       "      <td>...</td>\n",
       "      <td>...</td>\n",
       "    </tr>\n",
       "    <tr>\n",
       "      <th>96</th>\n",
       "      <td>WBA</td>\n",
       "      <td>Walgreens Boots Alliance Inc.</td>\n",
       "    </tr>\n",
       "    <tr>\n",
       "      <th>97</th>\n",
       "      <td>WDAY</td>\n",
       "      <td>Workday, Inc.</td>\n",
       "    </tr>\n",
       "    <tr>\n",
       "      <th>98</th>\n",
       "      <td>XEL</td>\n",
       "      <td>Xcel Energy Inc.</td>\n",
       "    </tr>\n",
       "    <tr>\n",
       "      <th>99</th>\n",
       "      <td>ZM</td>\n",
       "      <td>Zoom Video Communications, Inc.</td>\n",
       "    </tr>\n",
       "    <tr>\n",
       "      <th>100</th>\n",
       "      <td>ZS</td>\n",
       "      <td>Zscaler, Inc.</td>\n",
       "    </tr>\n",
       "  </tbody>\n",
       "</table>\n",
       "<p>101 rows × 2 columns</p>\n",
       "</div>"
      ],
      "text/plain": [
       "    symbol                             name\n",
       "0     AAPL                       Apple Inc.\n",
       "1     ABNB                     Airbnb, Inc.\n",
       "2     ADBE                       Adobe Inc.\n",
       "3      ADI              Analog Devices Inc.\n",
       "4      ADP   Automatic Data Processing Inc.\n",
       "..     ...                              ...\n",
       "96     WBA    Walgreens Boots Alliance Inc.\n",
       "97    WDAY                    Workday, Inc.\n",
       "98     XEL                 Xcel Energy Inc.\n",
       "99      ZM  Zoom Video Communications, Inc.\n",
       "100     ZS                    Zscaler, Inc.\n",
       "\n",
       "[101 rows x 2 columns]"
      ]
     },
     "execution_count": 11,
     "metadata": {},
     "output_type": "execute_result"
    }
   ],
   "source": [
    "nasdaq_tickers"
   ]
  },
  {
   "cell_type": "code",
   "execution_count": 14,
   "metadata": {},
   "outputs": [],
   "source": [
    "nasdaq_tickers.to_csv('nasdaq_tickers.csv', index=False)"
   ]
  },
  {
   "cell_type": "code",
   "execution_count": 12,
   "metadata": {},
   "outputs": [],
   "source": [
    "# # Print the ticker symbols\n",
    "# for stock in nasdaq_tickers:\n",
    "#     print(stock['symbol'])"
   ]
  },
  {
   "cell_type": "code",
   "execution_count": 13,
   "metadata": {},
   "outputs": [],
   "source": [
    "# from pytickersymbols import PyTickerSymbols\n",
    "\n",
    "# stock_data = PyTickerSymbols()\n",
    "# german_stocks = stock_data.get_stocks_by_index('DAX')\n",
    "# uk_stocks = stock_data.get_stocks_by_index('FTSE 100')\n",
    "\n",
    "# df = pd.DataFrame(uk_stocks)\n",
    "# df\n",
    "\n",
    "# print(list(uk_stocks))\n"
   ]
  }
 ],
 "metadata": {
  "kernelspec": {
   "display_name": "base",
   "language": "python",
   "name": "python3"
  },
  "language_info": {
   "codemirror_mode": {
    "name": "ipython",
    "version": 3
   },
   "file_extension": ".py",
   "mimetype": "text/x-python",
   "name": "python",
   "nbconvert_exporter": "python",
   "pygments_lexer": "ipython3",
   "version": "3.9.7"
  }
 },
 "nbformat": 4,
 "nbformat_minor": 2
}
